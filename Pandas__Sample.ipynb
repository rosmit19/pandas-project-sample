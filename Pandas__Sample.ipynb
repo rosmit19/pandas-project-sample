{
 "cells": [
  {
   "cell_type": "code",
   "execution_count": 2,
   "metadata": {},
   "outputs": [],
   "source": [
    "import pandas as pd\n",
    "pd.set_option('display.max_colwidth', None)"
   ]
  },
  {
   "cell_type": "code",
   "execution_count": 2,
   "metadata": {},
   "outputs": [],
   "source": [
    "df_1 = pd.read_excel('/home/user/Downloads/University_of_New_South_Wales_course.xlsx', engine='openpyxl')\n",
    "df_2 = pd.read_excel('/home/user/Downloads/UNSW_aus_update22.xlsx', engine='openpyxl')"
   ]
  },
  {
   "cell_type": "code",
   "execution_count": 7,
   "metadata": {},
   "outputs": [],
   "source": [
    "for i, row in df_1.iterrows():\n",
    "    cn = str(row['Course Name']).lower()\n",
    "    if \"bachelor\" in cn:\n",
    "        degree_title = \"undergraduate\"\n",
    "    else:\n",
    "        degree_title = \"postgraduate\"\n",
    "    cn_code = str(row['Course Website']).split('.au')[-1].replace('/','')\n",
    "    url = \"https://www.unsw.edu.au/study/\" + degree_t +\"/\"+ cn_code + \"?studentType=International\"\n",
    "    df_1.at[i,'Course Website'] = url"
   ]
  },
  {
   "cell_type": "code",
   "execution_count": 4,
   "metadata": {},
   "outputs": [],
   "source": [
    "df1 = df_1.set_index('Course Website')\n",
    "df2 = df_2.set_index('Course Website')\n",
    "df1.drop_duplicates(inplace=True)\n",
    "df2.drop_duplicates(inplace=True)"
   ]
  },
  {
   "cell_type": "code",
   "execution_count": 5,
   "metadata": {},
   "outputs": [],
   "source": [
    "df2.update(df1, overwrite=False)"
   ]
  },
  {
   "cell_type": "code",
   "execution_count": 6,
   "metadata": {},
   "outputs": [],
   "source": [
    "df2.to_excel('UNSW_aus_map9.xlsx',engine='openpyxl')"
   ]
  },
  {
   "cell_type": "code",
   "execution_count": 3,
   "metadata": {},
   "outputs": [],
   "source": [
    "df_3 = pd.read_excel('/home/user/Downloads/Charles_Darwin_University_course (1).xlsx', engine='openpyxl')\n",
    "df_4 = pd.read_excel('/home/user/Downloads/Charles Darwin University_update22.xlsx', engine='openpyxl')"
   ]
  },
  {
   "cell_type": "code",
   "execution_count": 5,
   "metadata": {},
   "outputs": [],
   "source": [
    "for i, row in df_3.iterrows():\n",
    "    r = str(row['Course Website']).split('-2')[0].replace('study', 'study/course')\n",
    "    df_3.at[i,'Course Website'] = r"
   ]
  },
  {
   "cell_type": "code",
   "execution_count": 6,
   "metadata": {},
   "outputs": [],
   "source": [
    "df3 = df_3.set_index('Course Website')\n",
    "df4 = df_4.set_index('Course Website')\n",
    "df3.drop_duplicates(inplace=True)\n",
    "df4.drop_duplicates(inplace=True)"
   ]
  },
  {
   "cell_type": "code",
   "execution_count": 8,
   "metadata": {},
   "outputs": [],
   "source": [
    "df4.update(df3, overwrite=True)"
   ]
  },
  {
   "cell_type": "code",
   "execution_count": null,
   "metadata": {},
   "outputs": [],
   "source": [
    "df4.to_excel('CDU_map9.xlsx',engine='openpyxl')"
   ]
  }
 ],
 "metadata": {
  "kernelspec": {
   "display_name": "Python 3",
   "language": "python",
   "name": "python3"
  },
  "language_info": {
   "codemirror_mode": {
    "name": "ipython",
    "version": 3
   },
   "file_extension": ".py",
   "mimetype": "text/x-python",
   "name": "python",
   "nbconvert_exporter": "python",
   "pygments_lexer": "ipython3",
   "version": "3.7.3"
  }
 },
 "nbformat": 4,
 "nbformat_minor": 2
}
